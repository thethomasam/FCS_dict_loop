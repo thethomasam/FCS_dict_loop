{
 "cells": [
  {
   "cell_type": "code",
   "execution_count": 18,
   "metadata": {},
   "outputs": [],
   "source": [
    "import pandas as pd\n",
    "import numpy as np\n",
    "%matplotlib inline\n",
    "import otter\n",
    "grader = otter.Notebook()"
   ]
  },
  {
   "cell_type": "markdown",
   "metadata": {},
   "source": [
    "# A2 | Week 1: Practice For Loops & Dictionary\n",
    "\n",
    "------\n",
    "\n",
    "### Instructions:\n",
    "\n",
    "- Complete 50 points worth of questions to pass the assessment\n",
    "  - You can attempt any number of questions and in any order provided you pass at least 50 points.\n",
    "- Develop and check your answers in the spaces provided.\n",
    "  - Do not remove any variables other provided markings already present in the answer spaces.\n",
    "  - Do not make any changes to this notebook outside of the answer spaces provided.\n",
    "  \n",
    "#### Submitting\n",
    "\n",
    "- Upload your .ipynb file to Gradescope (Make sure to restart the kernel and run all before you submit)\n",
    "- You can submit as many times as needed\n",
    "- When reviewing results, ignore any results listed under \"Public Tests\"\n",
    "\n",
    "For more information, see the assessment page. We have also provided an example question below for clarity. "
   ]
  },
  {
   "cell_type": "markdown",
   "metadata": {},
   "source": [
    "#### Example Question\n",
    "Write a Python program to display the elements in the list `[1, 2, 3, 4, 5, 6, 7, 8, 9, 10]` using for loops. Create the variable `example_output` and use it inside the for loop to construct the string that you want to display at the end of the program.\n",
    "\n",
    "```\n",
    "#This solution is for demonstration purposes ONLY. \n",
    "#There may be other ways of doing this task using for loops that produce the same output.\n",
    "#You have the freedom to use a solution that you prefer as long as it uses for loop and \n",
    "#produces the expected output using the example_output variable.\n",
    "example_output = \"\"\n",
    "example_list = [1, 2, 3, 4, 5, 6, 7, 8, 9, 10]\n",
    "for i in example_list:\n",
    "    example_output += str(i)\n",
    "    example_output += \"\\n\"\n",
    "example_output = example_output.strip() #this is to remove the extra new line in 10\n",
    "print(example_output)\n",
    "```"
   ]
  },
  {
   "cell_type": "markdown",
   "metadata": {},
   "source": [
    "#### Question 1&nbsp;&nbsp;&nbsp;&nbsp;&nbsp;&nbsp;(1 Point)\n",
    "Create a list `q1_list` and add the following names to it: *Lisa, Dave, Sage, Emma, John, David*. Write a Python program to display names using a for loop in the following format: `Hello! \"NAME\"` (*Note: NAME should be replaced with the name in the list in each iteration*). Create the variable `output1` and use it inside the while loop to construct the string that you want to display at the end of the program.\n",
    "\n",
    "Expected Output:  \n",
    "\n",
    "Hello! \"Lisa\"  \n",
    "Hello! \"Dave\"  \n",
    "Hello! \"Sage\"  \n",
    "Hello! \"Emma\"  \n",
    "Hello! \"John\"  \n",
    "Hello! \"David\""
   ]
  },
  {
   "cell_type": "code",
   "execution_count": 27,
   "metadata": {
    "tags": []
   },
   "outputs": [
    {
     "name": "stdout",
     "output_type": "stream",
     "text": [
      "Hello! \"Lisa\"\n",
      "Hello! \"Dave\"\n",
      "Hello! \" Sage\"\n",
      "Hello! \"Emma\"\n",
      "Hello! \"John\"\n",
      "Hello! \"David\"\n",
      "\n"
     ]
    }
   ],
   "source": [
    "output1 = \"\"\n",
    "q1_list=[ 'Lisa', 'Dave',' Sage', 'Emma', 'John', 'David']\n",
    "for name in q1_list:\n",
    "    temp='Hello! '+'\"'+name+'\"'\n",
    "    output1 += str(temp)\n",
    "    output1 += '\\n'\n",
    "# Write your solution here\n",
    "\n",
    "output1.strip()\n",
    "print(output1)"
   ]
  },
  {
   "cell_type": "markdown",
   "metadata": {},
   "source": [
    "#### Question 2&nbsp;&nbsp;&nbsp;&nbsp;&nbsp;&nbsp;(1 Point)\n",
    "Create a list `q2_list` and add the following numbers to it: *1, 2, 6, 10, 19, 21*. Write a Python program to display the square of each number using a for loop in the following format: `The square of NUMBER is SQUARENUM!` (*Note: NUMBER and SQUARENUM should be replaced with the number in the list in each iteration and the square of it*). Create the variable `output2` and use it inside the for loop to construct the string that you want to display at the end of the program.\n",
    "\n",
    "*Note: The displayed string should be in the same format as in Q1. For clarity, the expected output is shown below.*\n",
    "\n",
    "Expected Output:\n",
    "<p>\n",
    "The square of 1 is 1!<br>\n",
    "The square of 2 is 4!<br>\n",
    "The square of 6 is 36!<br>\n",
    "The square of 10 is 100!<br> \n",
    "The square of 19 is 361!<br>\n",
    "The square of 21 is 441!\n",
    "</p>"
   ]
  },
  {
   "cell_type": "code",
   "execution_count": 34,
   "metadata": {
    "tags": []
   },
   "outputs": [
    {
     "data": {
      "text/plain": [
       "'The square of 1 is 1!\\nThe square of 2 is 4!\\nThe square of 6 is 36!\\nThe square of 10 is 100!\\nThe square of 19 is 361!\\nThe square of 21 is 441!'"
      ]
     },
     "execution_count": 34,
     "metadata": {},
     "output_type": "execute_result"
    }
   ],
   "source": [
    "q2_list=[1, 2, 6, 10, 19, 21]\n",
    "output2=''\n",
    "for i in q2_list:\n",
    "    squarenum=i**2\n",
    "    temp = \"The square of \"+str(i)+\" is \"+str(squarenum)+\"!\"\n",
    "    output2 += str(temp)\n",
    "    output2 += \"\\n\"\n",
    "# Write your solution here\n",
    "\n",
    "output2=output2.strip()\n",
    "# Write your solution here\n",
    "\n",
    "output2"
   ]
  },
  {
   "cell_type": "markdown",
   "metadata": {},
   "source": [
    "#### Question 3&nbsp;&nbsp;&nbsp;&nbsp;&nbsp;&nbsp;(1 Point)\n",
    "Write a Python program to iterate through the string `q3_txt = \"PyThoN\"` and displays every letter in upper-case using a for loop. Create the variable `output3` and use  it inside the for loop to construct the string that you want to display at the end of the program.\n",
    "\n",
    "*Note: The displayed string should be in the same format as in Q1. For clarity, the expected output is shown below.*\n",
    "\n",
    "Expected Output:\n",
    "<p>\n",
    "P<br>\n",
    "Y<br>\n",
    "T<br>\n",
    "H<br>\n",
    "O<br>\n",
    "N\n",
    "</p>"
   ]
  },
  {
   "cell_type": "code",
   "execution_count": 35,
   "metadata": {
    "tags": []
   },
   "outputs": [
    {
     "name": "stdout",
     "output_type": "stream",
     "text": [
      "P\n",
      "Y\n",
      "T\n",
      "H\n",
      "O\n",
      "N\n"
     ]
    }
   ],
   "source": [
    "output3=''\n",
    "for i in \"PyThoN\":\n",
    "    temp = i.upper()\n",
    "    output3 += str(temp)\n",
    "    output3 += \"\\n\"\n",
    "# Write your solution here\n",
    "\n",
    "output3=output3.strip()\n",
    "\n",
    "# Write your solution here\n",
    "\n",
    "print(output3)"
   ]
  },
  {
   "cell_type": "markdown",
   "metadata": {},
   "source": [
    "#### Question 4&nbsp;&nbsp;&nbsp;&nbsp;&nbsp;&nbsp;(1 Point)\n",
    "Write a Python program to iterate through the string `q4_txt = \"Python is My favorite programming language. It is also famous for its simple programming syntax, code readability and English-like commands that make coding in Python lot easier and efficient.\"` and find the count of letter `m` using a for loop (make sure that you lower-case the string to calculate all `m`s in it). Use the counter variable `output4` for the calculations needed."
   ]
  },
  {
   "cell_type": "code",
   "execution_count": 39,
   "metadata": {
    "tags": []
   },
   "outputs": [
    {
     "name": "stdout",
     "output_type": "stream",
     "text": [
      "10\n"
     ]
    }
   ],
   "source": [
    "q4_txt = \"Python is My favorite programming language. It is also famous for its simple programming syntax, code readability and English-like commands that make coding in Python lot easier and efficient.\"\n",
    "output4=0\n",
    "for i in q4_txt:\n",
    "    if i.lower() =='m':\n",
    "        output4+=1\n",
    "\n",
    "print(output4)\n",
    "# Write your solution here\n",
    "\n"
   ]
  },
  {
   "cell_type": "markdown",
   "metadata": {},
   "source": [
    "#### Question 5&nbsp;&nbsp;&nbsp;&nbsp;&nbsp;&nbsp;(1 Point)\n",
    "Create a list `q5_list` and add the following numbers to it: *-12, 20, -91, 90, -19, 39*. Write a Python program to display numbers in the list that are both postive and even using a for loop. Create the variable `output5` and use it inside the for loop to construct the string that you want to display at the end of the program.\n",
    "\n",
    "*Note: The displayed string should be in the same format as in Q1.*"
   ]
  },
  {
   "cell_type": "code",
   "execution_count": 40,
   "metadata": {
    "tags": []
   },
   "outputs": [
    {
     "name": "stdout",
     "output_type": "stream",
     "text": [
      "20\n",
      "90\n"
     ]
    }
   ],
   "source": [
    "q5_list=[-12, 20, -91, 90, -19, 39]\n",
    "output5=''\n",
    "for num in q5_list:\n",
    "    if num>0 and num%2==0:\n",
    "        output5 += str(num)\n",
    "        output5+='\\n'\n",
    "\n",
    "# Write your solution here\n",
    "\n",
    "output5=output5.strip()\n",
    "print(output5)"
   ]
  },
  {
   "cell_type": "markdown",
   "metadata": {},
   "source": [
    "#### Question 6&nbsp;&nbsp;&nbsp;&nbsp;&nbsp;&nbsp;(3 Points)\n",
    "Create a list `q6_list` with the following items to it: *1, Emma, 6, John, David, 21, 19, Dave*. Create two empty lists `output6_numbers` and `output6_names`. Write a Python program that loops through `q6_list` and perform the folowing:\n",
    "* if a number is encountered, add it to `output6_numbers`\n",
    "* if a name (i.e., a string) is encountered add it to `output6_names`\n",
    "\n",
    "***\n",
    "<details>\n",
    "  <summary><span style=\"color:blue\">Click to see Hints</span></summary>\n",
    "    \n",
    "* You will need to use string methods such as isdigit() and isalpha() to identify whether it is a number or a name.\n",
    "</details>"
   ]
  },
  {
   "cell_type": "code",
   "execution_count": 44,
   "metadata": {
    "tags": []
   },
   "outputs": [
    {
     "data": {
      "text/plain": [
       "[1, 6, 21, 19]"
      ]
     },
     "execution_count": 44,
     "metadata": {},
     "output_type": "execute_result"
    }
   ],
   "source": [
    "# Write your solution here\n",
    "q6_list=[1, 'Emma', 6, 'John', 'David', 21, 19, 'Dave']\n",
    "output6_numbers=[]\n",
    "output6_names=[]\n",
    "for i in q6_list:\n",
    "    if str(i).isdigit():\n",
    "        output6_numbers.append(i)\n",
    "    else:\n",
    "        output6_names.append(i)\n",
    "        \n",
    "output6_numbers       \n"
   ]
  },
  {
   "cell_type": "markdown",
   "metadata": {},
   "source": [
    "#### Question 7&nbsp;&nbsp;&nbsp;&nbsp;&nbsp;&nbsp;(3 Points) \n",
    "Write a Python program to display the following pattern using for loops. Create the variable `output7` and use it inside the while loop to construct the string that you want to display at the end of the program.\n",
    "\n",
    "<p>\n",
    "1<br> \n",
    "1 2<br>\n",
    "1 2 3<br> \n",
    "1 2 3 4<br>\n",
    "1 2 3 4 5<br>\n",
    "</p>"
   ]
  },
  {
   "cell_type": "code",
   "execution_count": 47,
   "metadata": {
    "tags": []
   },
   "outputs": [
    {
     "data": {
      "text/plain": [
       "'1\\n12\\n123\\n1234\\n12345'"
      ]
     },
     "execution_count": 47,
     "metadata": {},
     "output_type": "execute_result"
    }
   ],
   "source": [
    "output7=''\n",
    "for i in range(1,7):\n",
    "    for j in range(i):\n",
    "        if j!=0:\n",
    "            output7+=str(j)\n",
    "        \n",
    "    output7+='\\n'\n",
    "output7=output7.strip()\n",
    "output7\n",
    "\n",
    "# Write your solution here\n",
    "\n"
   ]
  },
  {
   "cell_type": "markdown",
   "metadata": {},
   "source": [
    "#### Question 8&nbsp;&nbsp;&nbsp;&nbsp;&nbsp;&nbsp;(3 Points) \n",
    "Create a list `q8_list = [1, 3.1, [\"John\", \"David\"], 19, 30, \"Python\", 9.1, \"Java\", 12.1212, \"Go\", -1.2, \".NET\", 9, [-1.2, 1.0], -9, [1, 2]]`. Create an empty list `output8_ints`. Write a Python program that loops through `q8_list` and append only integer numbers to `output8_ints`."
   ]
  },
  {
   "cell_type": "code",
   "execution_count": 50,
   "metadata": {
    "tags": []
   },
   "outputs": [
    {
     "data": {
      "text/plain": [
       "[1, 19, 30, 9, -9]"
      ]
     },
     "execution_count": 50,
     "metadata": {},
     "output_type": "execute_result"
    }
   ],
   "source": [
    "# Write your solution here\n",
    "output8_ints=[]\n",
    "q8_list = [1, 3.1, [\"John\", \"David\"], 19, 30, \"Python\", 9.1, \"Java\", 12.1212, \"Go\", -1.2, \".NET\", 9, [-1.2, 1.0], -9, [1, 2]]\n",
    "for i in q8_list:\n",
    "    if str(i).lstrip(\"-\").isdigit():\n",
    "        \n",
    "        output8_ints.append(i)\n",
    "output8_ints"
   ]
  },
  {
   "cell_type": "markdown",
   "metadata": {},
   "source": [
    "#### Question 9&nbsp;&nbsp;&nbsp;&nbsp;&nbsp;&nbsp;(3 Points)\n",
    "Write a Python program to display the Fibonacci series up to 10 terms. The next number in Fibonacci series is found by adding up the two numbers before it. The first two numbers are 0 and 1. For example, in the Fibonacci series: 0, 1, 1, 2, 3, 5, 8, the next number is calculated as 5+8 = 13. Use a for loop with variables `q9_num1` and `q9_num2` to store first and second numbers of the series. Create the variable `output9` and use it inside the for loop to construct the string that you want to display at the end of the program.\n",
    "\n",
    "*Note: The displayed string should be in the same format as in Q1.*"
   ]
  },
  {
   "cell_type": "code",
   "execution_count": 52,
   "metadata": {
    "tags": []
   },
   "outputs": [
    {
     "data": {
      "text/plain": [
       "'0\\n1\\n1\\n2\\n3\\n5\\n8\\n13\\n21\\n34\\n'"
      ]
     },
     "execution_count": 52,
     "metadata": {},
     "output_type": "execute_result"
    }
   ],
   "source": [
    "q9_num1,q9_num2=0,1\n",
    "pre_prev,prev=q9_num1,q9_num2\n",
    "output9=''\n",
    "for i in range(8):\n",
    "    next_num=pre_prev+prev\n",
    "    \n",
    "    \n",
    "    output9 +=str(next_num)+'\\n'\n",
    "    pre_prev=prev\n",
    "    prev=next_num\n",
    "    \n",
    "output9=str(q9_num1)+'\\n'+str(q9_num2)+'\\n'+output9\n",
    "# Write your solution here\n",
    "output9"
   ]
  },
  {
   "cell_type": "markdown",
   "metadata": {},
   "source": [
    "#### Question 10&nbsp;&nbsp;&nbsp;&nbsp;&nbsp;&nbsp;(3 Points)\n",
    "Write a Python program to convert the following two lists into a dictionary called `output10`.\n",
    "```\n",
    "q10_keys = [\"John\", \"Danise\", \"David\", \"Kelly\", \"Emma\", \"Olivia\"]\n",
    "q10_values = [12, 10, 9, 19, 30, 33]\n",
    "```"
   ]
  },
  {
   "cell_type": "code",
   "execution_count": 22,
   "metadata": {
    "tags": []
   },
   "outputs": [
    {
     "data": {
      "text/plain": [
       "{'John': 12, 'Danise': 10, 'David': 9, 'Kelly': 19, 'Emma': 30, 'Olivia': 33}"
      ]
     },
     "execution_count": 22,
     "metadata": {},
     "output_type": "execute_result"
    }
   ],
   "source": [
    "q10_keys = [\"John\", \"Danise\", \"David\", \"Kelly\", \"Emma\", \"Olivia\"]\n",
    "q10_values = [12, 10, 9, 19, 30, 33]\n",
    "output10={}\n",
    "for i in range(len(q10_keys)):\n",
    "    output10[q10_keys[i]]=q10_values[i]\n",
    "    \n",
    "# Write your solution here\n",
    "output10\n"
   ]
  },
  {
   "cell_type": "markdown",
   "metadata": {},
   "source": [
    "#### Question 11&nbsp;&nbsp;&nbsp;&nbsp;&nbsp;&nbsp;(4 Points)\n",
    "Write a Python program to display the following pattern using for loops. Create the variable `output11` and use it inside the while loop to construct the string that you want to display at the end of the program.\n",
    "<p>\n",
    "5 4 3 2 1<br> \n",
    "4 3 2 1<br> \n",
    "3 2 1<br> \n",
    "2 1<br>\n",
    "1<br>\n",
    "</p>"
   ]
  },
  {
   "cell_type": "code",
   "execution_count": 62,
   "metadata": {
    "tags": []
   },
   "outputs": [
    {
     "data": {
      "text/plain": [
       "'5 4 3 2 1 \\n4 3 2 1 \\n3 2 1 \\n2 1 \\n1 \\n'"
      ]
     },
     "execution_count": 62,
     "metadata": {},
     "output_type": "execute_result"
    }
   ],
   "source": [
    "output11=''\n",
    "for i in range(5,0,-1):\n",
    "    for j in range(i,0,-1):\n",
    "        output11+=str(j)+\" \"\n",
    "        output11.rstrip(\" \")\n",
    "    output11+='\\n'\n",
    "output11"
   ]
  },
  {
   "cell_type": "markdown",
   "metadata": {},
   "source": [
    "#### Question 12&nbsp;&nbsp;&nbsp;&nbsp;&nbsp;&nbsp;(4 Points)\n",
    "Write a Python program to display the following pattern using for loops. Create the variable `output12` and use it inside the while loop to construct the string that you want to display at the end of the program.\n",
    "<p>\n",
    "* <br>\n",
    "* * <br>\n",
    "* * * <br>\n",
    "* * * * <br>\n",
    "* * * * * <br>\n",
    "* * * * <br>\n",
    "* * * <br>\n",
    "* * <br>\n",
    "*\n",
    "</p>"
   ]
  },
  {
   "cell_type": "code",
   "execution_count": 92,
   "metadata": {
    "tags": []
   },
   "outputs": [
    {
     "data": {
      "text/plain": [
       "'*\\n **\\n ***\\n ****\\n *****\\n * * * * \\n* * * \\n* * \\n*'"
      ]
     },
     "execution_count": 92,
     "metadata": {},
     "output_type": "execute_result"
    }
   ],
   "source": [
    "output12=''\n",
    "for i in range(1,6):\n",
    "    for j in range(i):\n",
    "        output12+=\"*\"\n",
    "    output12+='\\n '\n",
    "    output12=output12.lstrip()\n",
    "\n",
    "# Write your solution here\n",
    "for i in range(4,0,-1):\n",
    "    for j in range(i):\n",
    "        output12+=\"* \"\n",
    "    output12+='\\n'\n",
    "output12=output12.strip()\n",
    "output12\n"
   ]
  },
  {
   "cell_type": "markdown",
   "metadata": {},
   "source": [
    "#### Question 13&nbsp;&nbsp;&nbsp;&nbsp;&nbsp;&nbsp;(4 Points)\n",
    "Write a Python program to concatenate following dictionaries to create a new dictionary called `output13`.\n",
    "```\n",
    "q13_1 = {1:10, 2:20, 3:30}\n",
    "q13_2 = {4:40, 5:50}\n",
    "q13_3 = {6:60, 7:70, 8:80}\n",
    "q13_4 = {9:90}\n",
    "```"
   ]
  },
  {
   "cell_type": "code",
   "execution_count": 39,
   "metadata": {
    "tags": []
   },
   "outputs": [
    {
     "data": {
      "text/plain": [
       "{1: 10, 2: 20, 3: 30, 4: 40, 5: 50, 6: 60, 7: 70, 8: 80, 9: 90}"
      ]
     },
     "execution_count": 39,
     "metadata": {},
     "output_type": "execute_result"
    }
   ],
   "source": [
    "q13_1 = {1:10, 2:20, 3:30}\n",
    "q13_2 = {4:40, 5:50}\n",
    "q13_3 = {6:60, 7:70, 8:80}\n",
    "q13_4 = {9:90}\n",
    "\n",
    "\n",
    "    \n",
    "\n",
    "\n",
    "output13 = {**q13_1,**q13_2,**q13_3,**q13_4}\n",
    "output13\n",
    "# Write your solution here\n",
    "\n"
   ]
  },
  {
   "cell_type": "markdown",
   "metadata": {},
   "source": [
    "#### Question 14&nbsp;&nbsp;&nbsp;&nbsp;&nbsp;&nbsp;(4 Points)\n",
    "Write a Python program that filters odd and even numbers from the following list: `q14_list = [19, 21, 2, 6, 26, 26, 39, 91, 93, 33, 12, 19, 31, 30]`. Create two empty lists: `output14_odd` and `output14_even` and append odd and even numbers respectively from the elements in `q14_list`."
   ]
  },
  {
   "cell_type": "code",
   "execution_count": 42,
   "metadata": {
    "tags": []
   },
   "outputs": [
    {
     "data": {
      "text/plain": [
       "[2, 6, 26, 26, 12, 30]"
      ]
     },
     "execution_count": 42,
     "metadata": {},
     "output_type": "execute_result"
    }
   ],
   "source": [
    "# Write your solution here\n",
    "output14_even=[]\n",
    "output14_odd=[]\n",
    "q14_list = [19, 21, 2, 6, 26, 26, 39, 91, 93, 33, 12, 19, 31, 30]\n",
    "for i in q14_list:\n",
    "    if i%2==0:\n",
    "        output14_even.append(i)\n",
    "    else:\n",
    "         output14_odd.append(i)\n",
    "            \n",
    "output14_even\n"
   ]
  },
  {
   "cell_type": "markdown",
   "metadata": {},
   "source": [
    "#### Question 15 &nbsp;&nbsp;&nbsp;&nbsp;&nbsp;&nbsp;(4 Points) \n",
    "Write a Python program to display the following pattern using for loops. Create the variable `output15` and use it inside the while loop to construct the string that you want to display at the end of the program.\n",
    "<p>\n",
    "1 2 3 4 5<br>\n",
    "2 2 3 4 5<br> \n",
    "3 3 3 4 5<br> \n",
    "4 4 4 4 5<br> \n",
    "5 5 5 5 5<br>\n",
    "</p>"
   ]
  },
  {
   "cell_type": "code",
   "execution_count": 95,
   "metadata": {
    "tags": []
   },
   "outputs": [
    {
     "data": {
      "text/plain": [
       "'1 2 3 4 5 \\n2 2 3 4 5 \\n3 3 3 4 5 \\n4 4 4 4 5 \\n5 5 5 5 5'"
      ]
     },
     "execution_count": 95,
     "metadata": {},
     "output_type": "execute_result"
    }
   ],
   "source": [
    "n=6\n",
    "output15=''\n",
    "for i in range(1,n):\n",
    "    for j in range(i):\n",
    "        output15+=str(i)+\" \"\n",
    "    for k in range(i+1,n):\n",
    "        output15+=str(k)+\" \"\n",
    "    output15+='\\n'\n",
    "output15=output15.strip()    \n",
    "output15\n",
    "\n",
    "# Write your solution here\n",
    "\n"
   ]
  },
  {
   "cell_type": "markdown",
   "metadata": {},
   "source": [
    "#### Question 16 &nbsp;&nbsp;&nbsp;&nbsp;&nbsp;&nbsp;(4 Points)\n",
    "Write a Python program to multiply all the items in the following dictionary using for loops (i.e., $12*10*9*19*30*33$). Create the variable `output16` and assign the solution to it.\n",
    "```\n",
    "q16_d = {'John': 12, 'Danise': 10, 'David': 9, 'Kelly': 19, 'Emma': 30, 'Olivia': 33}\n",
    "```"
   ]
  },
  {
   "cell_type": "code",
   "execution_count": 64,
   "metadata": {
    "tags": []
   },
   "outputs": [
    {
     "data": {
      "text/plain": [
       "20314800"
      ]
     },
     "execution_count": 64,
     "metadata": {},
     "output_type": "execute_result"
    }
   ],
   "source": [
    "# Write your solution here\n",
    "q16_d = {'John': 12, 'Danise': 10, 'David': 9, 'Kelly': 19, 'Emma': 30, 'Olivia': 33}\n",
    "output16=1\n",
    "for i in q16_d.values():\n",
    "    output16*=i\n",
    "output16"
   ]
  },
  {
   "cell_type": "markdown",
   "metadata": {},
   "source": [
    "#### Question 17 &nbsp;&nbsp;&nbsp;&nbsp;&nbsp;&nbsp;(6 Points)\n",
    " Write a Python program to calculate factorial of an integer number using a for loop. Create a variable `q17_input` and assign the number 131 to it. To calculate the factorial use the following guidelines. Create a variable `output17` and assign the factorial of it.\n",
    "\n",
    "* Factorial of number n is represented by `n!` and it is equal to `1*2*3*....*(n-1)*n`. For example, `4!` = `1*2*3*4` = 24\n",
    "* Note that 1! = 1 and 0! = 1"
   ]
  },
  {
   "cell_type": "code",
   "execution_count": 67,
   "metadata": {
    "tags": []
   },
   "outputs": [
    {
     "data": {
      "text/plain": [
       "847158069087882051098456875815279568163352087665474498775849754305766436915303927682164623187034167333264599970492141556534816949699515865660644961729169613882287309922474300878212776434073600000000000000000000000000000000"
      ]
     },
     "execution_count": 67,
     "metadata": {},
     "output_type": "execute_result"
    }
   ],
   "source": [
    "q17_input = 131\n",
    "output17=1\n",
    "for i in range(1,q17_input+1):\n",
    "    output17*=i\n",
    "    \n",
    "\n",
    "# Write your solution here\n",
    "\n",
    "output17"
   ]
  },
  {
   "cell_type": "markdown",
   "metadata": {},
   "source": [
    "#### Question 18 &nbsp;&nbsp;&nbsp;&nbsp;&nbsp;&nbsp;(6 Points)\n",
    "Given the following two dictionaries, write a Python program to combine two dictionary adding values for common keys. Create an empty list `output18` and assign the new dictionary to it.\n",
    "```\n",
    "q18_d1 = {'x': 120, 'y': 200, 'z':300, 'w': 30}\n",
    "q18_d2 = {'x': 90, 'y': 120, 'z':300, 'm': 120}\n",
    "```"
   ]
  },
  {
   "cell_type": "code",
   "execution_count": null,
   "metadata": {
    "tags": []
   },
   "outputs": [],
   "source": [
    "# Write your solution here\n",
    "q18_d1 = {'x': 120, 'y': 200, 'z':300, 'w': 30}\n",
    "q18_d2 = {'x': 90, 'y': 120, 'z':300, 'm': 120}\n"
   ]
  },
  {
   "cell_type": "markdown",
   "metadata": {},
   "source": [
    "#### Question 19 &nbsp;&nbsp;&nbsp;&nbsp;&nbsp;&nbsp;(6 Points)\n",
    "Given the following dictionary, write a Python program to identify all unique values in it and append them in to a list called `output19`.\n",
    "```\n",
    "q19_d = {112:'dog', 113:'cat', 119:'dog', 120:'dog', 126:'parrot', 130:'duck', 131:'dog', 133:'cat', 136:'duck', 139:'parrot'}\n",
    "```"
   ]
  },
  {
   "cell_type": "code",
   "execution_count": 69,
   "metadata": {
    "tags": []
   },
   "outputs": [
    {
     "data": {
      "text/plain": [
       "['dog', 'cat', 'parrot', 'duck']"
      ]
     },
     "execution_count": 69,
     "metadata": {},
     "output_type": "execute_result"
    }
   ],
   "source": [
    "output19 = []\n",
    "q19_d = {112:'dog', 113:'cat', 119:'dog', 120:'dog', 126:'parrot', 130:'duck', 131:'dog', 133:'cat', 136:'duck', 139:'parrot'}\n",
    "for i in q19_d.values():\n",
    "    if i not in output19:\n",
    "        output19.append(i)\n",
    "    \n",
    "# Write your solution here\n",
    "\n",
    "output19"
   ]
  },
  {
   "cell_type": "markdown",
   "metadata": {},
   "source": [
    "#### Question 20 &nbsp;&nbsp;&nbsp;&nbsp;&nbsp;&nbsp;(6 Points)\n",
    "Given the following list, write a Python program to convert it into a nested dictionary of keys called `output20`.\n",
    "```\n",
    "q20_list = ['John', 'Danise', 'David', 'Kelly']\n",
    "```\n",
    "The expected output of `output20` is `{'John': {'Danise': {'David': {'Kelly': {}}}}}`"
   ]
  },
  {
   "cell_type": "code",
   "execution_count": null,
   "metadata": {
    "tags": []
   },
   "outputs": [],
   "source": [
    "# Write your solution here\n",
    "\n",
    "q20_list = ['John', 'Danise', 'David', 'Kelly']\n",
    "output20={}\n",
    "prev=q20_list[-1]\n",
    "for i in reversed(q20_list):\n",
    "    temp={}\n",
    "    temp[i]={}\n",
    "    output20=temp\n",
    "    \n",
    "    \n",
    "    \n",
    "    \n",
    "    "
   ]
  },
  {
   "cell_type": "markdown",
   "metadata": {},
   "source": [
    "#### Question 21 &nbsp;&nbsp;&nbsp;&nbsp;&nbsp;&nbsp;(6 Points)\n",
    "Given the disctionary `output21 = {'x': 120, 'y': 200, 'z':300, 'w': 30}`, write a Python program to replace its values with their average using the below dis=ctionary.\n",
    "```\n",
    "q21_d = {'x': 90, 'y': 140, 'z':120, 'm': 120}\n",
    "```\n",
    "The expected output of `output21` will be in the following format: `{'x': 105, 'y': 170, 'z': 210, 'w': 30}`"
   ]
  },
  {
   "cell_type": "code",
   "execution_count": 80,
   "metadata": {
    "tags": []
   },
   "outputs": [
    {
     "data": {
      "text/plain": [
       "{'x': 105, 'y': 170, 'z': 210, 'w': 30}"
      ]
     },
     "execution_count": 80,
     "metadata": {},
     "output_type": "execute_result"
    }
   ],
   "source": [
    "output21 = {'x': 120, 'y': 200, 'z':300, 'w': 30}\n",
    "q21_d = {'x': 90, 'y': 140, 'z':120, 'm': 120}\n",
    "for i in q21_d.keys():\n",
    "    if i in output21.keys():\n",
    "        average=(output21[i]+q21_d[i])//2\n",
    "       \n",
    "        output21[i]=average\n",
    "    \n",
    "# Write your solution here\n",
    "output21\n"
   ]
  },
  {
   "cell_type": "markdown",
   "metadata": {},
   "source": [
    "#### Question 22 &nbsp;&nbsp;&nbsp;&nbsp;&nbsp;&nbsp;(6 Points)\n",
    "Given the following list of dictionaries in `output22`, change the values of the dictionaries based on the length of its corresponding key.\n",
    "```\n",
    "output22 = {{\"John\": 0, \"Danise\": 0, \"Kelly\": 0}, {\"Python\": 0, \"Java\": 0}, {\"Toy\": 0}, {\"Apple\": 0, \"Grapes\": 0}}\n",
    "```\n",
    "The expected output of `output22` will be in the following format: `[{'John': 4, 'Danise': 6, 'Kelly': 5}, {'Python': 6, 'Java': 4}, {'Toy': 3}, {'Apple': 5, 'Grapes': 6}]`"
   ]
  },
  {
   "cell_type": "code",
   "execution_count": 6,
   "metadata": {
    "tags": []
   },
   "outputs": [
    {
     "data": {
      "text/plain": [
       "[{'John': 4, 'Danise': 6, 'Kelly': 5},\n",
       " {'Python': 6, 'Java': 4},\n",
       " {'Toy': 3},\n",
       " {'Apple': 5, 'Grapes': 6}]"
      ]
     },
     "execution_count": 6,
     "metadata": {},
     "output_type": "execute_result"
    }
   ],
   "source": [
    "# Write your solution here\n",
    "output22 = [{\"John\": 0, \"Danise\": 0, \"Kelly\": 0}, {\"Python\": 0, \"Java\": 0}, {\"Toy\": 0}, {\"Apple\": 0, \"Grapes\": 0}]\n",
    "for i in output22:\n",
    "    for j in i.keys():\n",
    "        i[j]=len(j)\n",
    "output22  \n"
   ]
  },
  {
   "cell_type": "markdown",
   "metadata": {},
   "source": [
    "#### Question 23 &nbsp;&nbsp;&nbsp;&nbsp;&nbsp;&nbsp;(10 Points)\n",
    "Write a Python program to display the following pattern (letter `M`) using for loops. Create the variable `output23` and use it inside the while loop to construct the string that you want to display at the end of the program.\n",
    "```\n",
    "        * \n",
    "       * * \n",
    "      * * * \n",
    "     * * * * \n",
    "    * * * * * \n",
    "   * * * * * * \n",
    "    * * * * * \n",
    "     * * * * \n",
    "      * * * \n",
    "       * * \n",
    "        *\n",
    "```"
   ]
  },
  {
   "cell_type": "code",
   "execution_count": null,
   "metadata": {
    "tags": []
   },
   "outputs": [],
   "source": [
    "\n",
    "\n",
    "# Write your solution here\n",
    "\n"
   ]
  },
  {
   "cell_type": "markdown",
   "metadata": {},
   "source": [
    "#### Question 24 &nbsp;&nbsp;&nbsp;&nbsp;&nbsp;&nbsp;(10 Points)\n",
    "Write a Python program to display the following pattern using while loops. Create the variable `output24` and use it inside the while loop to construct the string that you want to display at the end of the program.\n",
    "```\n",
    "5*4*3*2*1*1*2*3*4*5*\n",
    "\n",
    "5*4*3*2*****2*3*4*5*\n",
    "\n",
    "5*4*3*********3*4*5*\n",
    "\n",
    "5*4*************4*5*\n",
    "\n",
    "5*****************5*\n",
    "\n",
    "********************\n",
    "```"
   ]
  },
  {
   "cell_type": "code",
   "execution_count": 17,
   "metadata": {
    "tags": []
   },
   "outputs": [
    {
     "name": "stdout",
     "output_type": "stream",
     "text": [
      "5*4*3*2*1*1*2*3*4*5*\n",
      "5*4*3*2*****2*3*4*5*\n",
      "5*4*3*********3*4*5*\n",
      "5*4*************4*5*\n",
      "5*****************5*\n",
      "********************\n",
      "\n"
     ]
    }
   ],
   "source": [
    "output24 = \"\"\n",
    "\n",
    "for i in range(1,7):\n",
    "\n",
    "    \n",
    "    for j in range(5,i-1,-1):\n",
    "        output24+=str(j)+\"*\"\n",
    "    for k in range(i,1,-1):\n",
    "        output24+=\"**\"\n",
    "   \n",
    "    for f in range(1,i):\n",
    "        output24+=\"**\"\n",
    "        \n",
    "    for s in range(i,6):\n",
    "        output24+=str(s)+\"*\"\n",
    "        \n",
    "    \n",
    "    output24+=\"\\n\\n\"\n",
    "\n",
    "\n",
    "print(output24)"
   ]
  },
  {
   "cell_type": "code",
   "execution_count": 14,
   "metadata": {},
   "outputs": [],
   "source": []
  },
  {
   "cell_type": "code",
   "execution_count": null,
   "metadata": {},
   "outputs": [],
   "source": []
  }
 ],
 "metadata": {
  "celltoolbar": "Edit Metadata",
  "kernelspec": {
   "display_name": "Python 3 (ipykernel)",
   "language": "python",
   "name": "python3"
  },
  "language_info": {
   "codemirror_mode": {
    "name": "ipython",
    "version": 3
   },
   "file_extension": ".py",
   "mimetype": "text/x-python",
   "name": "python",
   "nbconvert_exporter": "python",
   "pygments_lexer": "ipython3",
   "version": "3.9.7"
  },
  "otter": {
   "tests": {
    "Question 01": {
     "name": "Question 01",
     "points": 1,
     "suites": [
      {
       "cases": [],
       "scored": true,
       "setup": "",
       "teardown": "",
       "type": "doctest"
      }
     ]
    },
    "Question 02": {
     "name": "Question 02",
     "points": 1,
     "suites": [
      {
       "cases": [],
       "scored": true,
       "setup": "",
       "teardown": "",
       "type": "doctest"
      }
     ]
    },
    "Question 03": {
     "name": "Question 03",
     "points": 1,
     "suites": [
      {
       "cases": [],
       "scored": true,
       "setup": "",
       "teardown": "",
       "type": "doctest"
      }
     ]
    },
    "Question 04": {
     "name": "Question 04",
     "points": 1,
     "suites": [
      {
       "cases": [],
       "scored": true,
       "setup": "",
       "teardown": "",
       "type": "doctest"
      }
     ]
    },
    "Question 05": {
     "name": "Question 05",
     "points": 1,
     "suites": [
      {
       "cases": [],
       "scored": true,
       "setup": "",
       "teardown": "",
       "type": "doctest"
      }
     ]
    },
    "Question 06": {
     "name": "Question 06",
     "points": 3,
     "suites": [
      {
       "cases": [],
       "scored": true,
       "setup": "",
       "teardown": "",
       "type": "doctest"
      }
     ]
    },
    "Question 07": {
     "name": "Question 07",
     "points": 3,
     "suites": [
      {
       "cases": [],
       "scored": true,
       "setup": "",
       "teardown": "",
       "type": "doctest"
      }
     ]
    },
    "Question 08": {
     "name": "Question 08",
     "points": 3,
     "suites": [
      {
       "cases": [],
       "scored": true,
       "setup": "",
       "teardown": "",
       "type": "doctest"
      }
     ]
    },
    "Question 09": {
     "name": "Question 09",
     "points": 3,
     "suites": [
      {
       "cases": [],
       "scored": true,
       "setup": "",
       "teardown": "",
       "type": "doctest"
      }
     ]
    },
    "Question 10": {
     "name": "Question 10",
     "points": 3,
     "suites": [
      {
       "cases": [],
       "scored": true,
       "setup": "",
       "teardown": "",
       "type": "doctest"
      }
     ]
    },
    "Question 11": {
     "name": "Question 11",
     "points": 4,
     "suites": [
      {
       "cases": [],
       "scored": true,
       "setup": "",
       "teardown": "",
       "type": "doctest"
      }
     ]
    },
    "Question 12": {
     "name": "Question 12",
     "points": 4,
     "suites": [
      {
       "cases": [],
       "scored": true,
       "setup": "",
       "teardown": "",
       "type": "doctest"
      }
     ]
    },
    "Question 13": {
     "name": "Question 13",
     "points": 4,
     "suites": [
      {
       "cases": [],
       "scored": true,
       "setup": "",
       "teardown": "",
       "type": "doctest"
      }
     ]
    },
    "Question 14": {
     "name": "Question 14",
     "points": 4,
     "suites": [
      {
       "cases": [],
       "scored": true,
       "setup": "",
       "teardown": "",
       "type": "doctest"
      }
     ]
    },
    "Question 15": {
     "name": "Question 15",
     "points": 4,
     "suites": [
      {
       "cases": [],
       "scored": true,
       "setup": "",
       "teardown": "",
       "type": "doctest"
      }
     ]
    },
    "Question 16": {
     "name": "Question 16",
     "points": 4,
     "suites": [
      {
       "cases": [],
       "scored": true,
       "setup": "",
       "teardown": "",
       "type": "doctest"
      }
     ]
    },
    "Question 17": {
     "name": "Question 17",
     "points": 6,
     "suites": [
      {
       "cases": [],
       "scored": true,
       "setup": "",
       "teardown": "",
       "type": "doctest"
      }
     ]
    },
    "Question 18": {
     "name": "Question 18",
     "points": 6,
     "suites": [
      {
       "cases": [],
       "scored": true,
       "setup": "",
       "teardown": "",
       "type": "doctest"
      }
     ]
    },
    "Question 19": {
     "name": "Question 19",
     "points": 6,
     "suites": [
      {
       "cases": [],
       "scored": true,
       "setup": "",
       "teardown": "",
       "type": "doctest"
      }
     ]
    },
    "Question 20": {
     "name": "Question 20",
     "points": 6,
     "suites": [
      {
       "cases": [],
       "scored": true,
       "setup": "",
       "teardown": "",
       "type": "doctest"
      }
     ]
    },
    "Question 21": {
     "name": "Question 21",
     "points": 6,
     "suites": [
      {
       "cases": [],
       "scored": true,
       "setup": "",
       "teardown": "",
       "type": "doctest"
      }
     ]
    },
    "Question 22": {
     "name": "Question 22",
     "points": 6,
     "suites": [
      {
       "cases": [],
       "scored": true,
       "setup": "",
       "teardown": "",
       "type": "doctest"
      }
     ]
    },
    "Question 23": {
     "name": "Question 23",
     "points": 10,
     "suites": [
      {
       "cases": [],
       "scored": true,
       "setup": "",
       "teardown": "",
       "type": "doctest"
      }
     ]
    },
    "Question 24": {
     "name": "Question 24",
     "points": 10,
     "suites": [
      {
       "cases": [],
       "scored": true,
       "setup": "",
       "teardown": "",
       "type": "doctest"
      }
     ]
    }
   }
  },
  "varInspector": {
   "cols": {
    "lenName": 16,
    "lenType": 16,
    "lenVar": 40
   },
   "kernels_config": {
    "python": {
     "delete_cmd_postfix": "",
     "delete_cmd_prefix": "del ",
     "library": "var_list.py",
     "varRefreshCmd": "print(var_dic_list())"
    },
    "r": {
     "delete_cmd_postfix": ") ",
     "delete_cmd_prefix": "rm(",
     "library": "var_list.r",
     "varRefreshCmd": "cat(var_dic_list()) "
    }
   },
   "types_to_exclude": [
    "module",
    "function",
    "builtin_function_or_method",
    "instance",
    "_Feature"
   ],
   "window_display": false
  }
 },
 "nbformat": 4,
 "nbformat_minor": 4
}
